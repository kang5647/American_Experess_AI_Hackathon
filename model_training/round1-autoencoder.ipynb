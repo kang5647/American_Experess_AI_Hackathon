{
 "cells": [
  {
   "cell_type": "code",
   "execution_count": 1,
   "id": "8854a3b8",
   "metadata": {},
   "outputs": [
    {
     "name": "stderr",
     "output_type": "stream",
     "text": [
      "2024-03-18 19:41:20.768948: I tensorflow/core/util/port.cc:113] oneDNN custom operations are on. You may see slightly different numerical results due to floating-point round-off errors from different computation orders. To turn them off, set the environment variable `TF_ENABLE_ONEDNN_OPTS=0`.\n",
      "2024-03-18 19:41:22.395174: I tensorflow/core/platform/cpu_feature_guard.cc:210] This TensorFlow binary is optimized to use available CPU instructions in performance-critical operations.\n",
      "To enable the following instructions: AVX2 AVX512F AVX512_VNNI FMA, in other operations, rebuild TensorFlow with the appropriate compiler flags.\n",
      "2024-03-18 19:41:29.502005: W tensorflow/compiler/tf2tensorrt/utils/py_utils.cc:38] TF-TRT Warning: Could not find TensorRT\n"
     ]
    }
   ],
   "source": [
    "import tensorflow as tf\n",
    "from tensorflow import keras\n",
    "from tensorflow.keras import layers\n",
    "from sklearn.model_selection import train_test_split\n",
    "import joblib\n",
    "from tensorflow.keras.layers import Normalization, StringLookup, IntegerLookup\n",
    "import pandas as pd\n",
    "import numpy as np\n",
    "from sklearn import preprocessing\n",
    "from sklearn.preprocessing import StandardScaler\n",
    "from sklearn.preprocessing import TargetEncoder\n",
    "from sklearn.compose import ColumnTransformer\n",
    "from tensorflow.keras import Sequential\n",
    "from tensorflow.keras.layers import Dense, Dropout\n",
    "from tensorflow.keras.models import Model\n",
    "import matplotlib.pyplot as plt\n",
    "from tensorflow.keras.callbacks import EarlyStopping"
   ]
  },
  {
   "cell_type": "code",
   "execution_count": 2,
   "id": "2f2a39cb-0943-4844-84d6-a9021c1495e2",
   "metadata": {},
   "outputs": [],
   "source": [
    "columns_to_drop = ['customer','merchant', 'ind_recommended', 'activation', 'label']\n",
    "categorical_features = ['merchant_profile_01'] \n",
    "numeric_features =['customer_spend_06',\n",
    " 'customer_digital_activity_16',\n",
    " 'distance_05',\n",
    " 'customer_digital_activity_19',\n",
    " 'customer_industry_spend_03',\n",
    " 'customer_digital_activity_20',\n",
    " 'customer_spend_03',\n",
    " 'merchant_spend_07',\n",
    " 'customer_spend_18',\n",
    " 'merchant_spend_03',\n",
    " 'distance_02',\n",
    " 'customer_profile_04',\n",
    " 'customer_digital_activity_14',\n",
    " 'customer_digital_activity_10',\n",
    " 'customer_profile_02',\n",
    " 'customer_spend_01',\n",
    " 'customer_digital_activity_01',\n",
    " 'merchant_spend_02',\n",
    " 'distance_03',\n",
    " 'customer_digital_activity_03',\n",
    " 'merchant_spend_11',\n",
    " 'customer_spend_02',\n",
    " 'merchant_spend_01',\n",
    " 'customer_digital_activity_21',\n",
    " 'customer_merchant_03',\n",
    " 'customer_spend_19',\n",
    " 'distance_01',\n",
    " 'customer_digital_activity_12',\n",
    " 'customer_profile_01',\n",
    " 'customer_digital_activity_13',\n",
    " 'customer_spend_05',\n",
    " 'customer_spend_16',\n",
    " 'customer_spend_13',\n",
    " 'merchant_profile_03',\n",
    " 'merchant_spend_05',\n",
    " 'customer_digital_activity_02',\n",
    " 'customer_spend_17',\n",
    " 'customer_digital_activity_06',\n",
    " 'customer_digital_activity_15',\n",
    " 'customer_spend_15',\n",
    " 'merchant_spend_10',\n",
    " 'distance_04',\n",
    " 'merchant_spend_04',\n",
    " 'customer_industry_spend_04',\n",
    " 'customer_industry_spend_01',\n",
    " 'merchant_profile_02',\n",
    " 'customer_profile_03',\n",
    " 'customer_digital_activity_17',\n",
    " 'customer_digital_activity_11',\n",
    " 'merchant_spend_09',\n",
    " 'merchant_spend_08',\n",
    " 'customer_industry_spend_02',\n",
    " 'customer_spend_07',\n",
    " 'customer_spend_14',\n",
    " 'customer_digital_activity_05',\n",
    " 'customer_spend_04',\n",
    " 'customer_digital_activity_04',\n",
    " 'merchant_spend_06',\n",
    " 'customer_digital_activity_22',\n",
    " 'customer_industry_spend_05']\n",
    "X_cols = ['merchant_profile_01',\n",
    " 'customer_spend_06',\n",
    " 'customer_digital_activity_16',\n",
    " 'distance_05',\n",
    " 'customer_digital_activity_19',\n",
    " 'customer_industry_spend_03',\n",
    " 'customer_digital_activity_20',\n",
    " 'customer_spend_03',\n",
    " 'merchant_spend_07',\n",
    " 'customer_spend_18',\n",
    " 'merchant_spend_03',\n",
    " 'distance_02',\n",
    " 'customer_profile_04',\n",
    " 'customer_digital_activity_14',\n",
    " 'customer_digital_activity_10',\n",
    " 'customer_profile_02',\n",
    " 'customer_spend_01',\n",
    " 'customer_digital_activity_01',\n",
    " 'merchant_spend_02',\n",
    " 'distance_03',\n",
    " 'customer_digital_activity_03',\n",
    " 'merchant_spend_11',\n",
    " 'customer_spend_02',\n",
    " 'merchant_spend_01',\n",
    " 'customer_digital_activity_21',\n",
    " 'customer_merchant_03',\n",
    " 'customer_spend_19',\n",
    " 'distance_01',\n",
    " 'customer_digital_activity_12',\n",
    " 'customer_profile_01',\n",
    " 'customer_digital_activity_13',\n",
    " 'customer_spend_05',\n",
    " 'customer_spend_16',\n",
    " 'customer_spend_13',\n",
    " 'merchant_profile_03',\n",
    " 'merchant_spend_05',\n",
    " 'customer_digital_activity_02',\n",
    " 'customer_spend_17',\n",
    " 'customer_digital_activity_06',\n",
    " 'customer_digital_activity_15',\n",
    " 'customer_spend_15',\n",
    " 'merchant_spend_10',\n",
    " 'distance_04',\n",
    " 'merchant_spend_04',\n",
    " 'customer_industry_spend_04',\n",
    " 'customer_industry_spend_01',\n",
    " 'merchant_profile_02',\n",
    " 'customer_profile_03',\n",
    " 'customer_digital_activity_17',\n",
    " 'customer_digital_activity_11',\n",
    " 'merchant_spend_09',\n",
    " 'merchant_spend_08',\n",
    " 'customer_industry_spend_02',\n",
    " 'customer_spend_07',\n",
    " 'customer_spend_14',\n",
    " 'customer_digital_activity_05',\n",
    " 'customer_spend_04',\n",
    " 'customer_digital_activity_04',\n",
    " 'merchant_spend_06',\n",
    " 'customer_digital_activity_22',\n",
    " 'customer_industry_spend_05']"
   ]
  },
  {
   "cell_type": "code",
   "execution_count": 3,
   "id": "72c917da-3351-41aa-b22e-7da68485a973",
   "metadata": {},
   "outputs": [],
   "source": [
    "# TO ADD imputed data\n",
    "df = pd.read_parquet('train_test/imputed_train.parquet', engine='pyarrow')\n"
   ]
  },
  {
   "cell_type": "code",
   "execution_count": 4,
   "id": "9e5fd4fa-1934-4f5a-94f0-f1c81e6f1e28",
   "metadata": {},
   "outputs": [],
   "source": [
    "# label y\n",
    "# df['label'] =( (df['ind_recommended'] == 1) & (df['activation'] == 1)) | ( (df['ind_recommended'] == 0) & (df['activation'] == 0))\n",
    "df['label'] =~( (df['ind_recommended'] == 1) & (df['activation'] == 1)) \n",
    "\n",
    "# Convert boolean values to integers (1 for True, 0 for False)\n",
    "df['label'] =df['label'].astype(bool)"
   ]
  },
  {
   "cell_type": "code",
   "execution_count": 5,
   "id": "21e3d67f-1219-4aba-9dbc-20da69e8de9f",
   "metadata": {},
   "outputs": [
    {
     "data": {
      "text/plain": [
       "label\n",
       "True     12220135\n",
       "False        9843\n",
       "Name: count, dtype: int64"
      ]
     },
     "execution_count": 5,
     "metadata": {},
     "output_type": "execute_result"
    }
   ],
   "source": [
    "df['label'].value_counts()"
   ]
  },
  {
   "cell_type": "code",
   "execution_count": 17,
   "id": "d5c37ca2-57d5-486a-b6a4-bc6d8984782d",
   "metadata": {},
   "outputs": [],
   "source": [
    "def prepare_dataset(df, columns_to_drop, test_size,random_state):\n",
    "    df_train, df_test = train_test_split(df, test_size=test_size, random_state=random_state, stratify=df['label'])\n",
    "    \n",
    "    # scale the training inputs\n",
    "    x_train = df_train[X_cols]\n",
    "    y_train = df_train['label'].to_numpy()\n",
    "    \n",
    "    # Define preprocessing steps for numeric features\n",
    "    numeric_transformer = StandardScaler()\n",
    "    # Define preprocessing steps for categorical features (using TargetEncoder)\n",
    "    categorical_transformer = TargetEncoder()\n",
    "    preprocessor = ColumnTransformer(\n",
    "    transformers=[\n",
    "        ('num', numeric_transformer, numeric_features),\n",
    "        ('cat', categorical_transformer, categorical_features)\n",
    "    ])\n",
    "    x_train_scaled = preprocessor.fit_transform(x_train, y_train)\n",
    "    preprocessor_save_path = 'scaler_model/model3_preprocessor1.joblib'\n",
    "    joblib.dump(preprocessor, preprocessor_save_path)\n",
    "    \n",
    "    #scale and prepare testing data\n",
    "    x_test = df_test[X_cols]\n",
    "    x_test_scaled = preprocessor.transform(x_test)\n",
    "    y_test = df_test['label'].to_numpy() \n",
    "  \n",
    "    return x_train_scaled, y_train, x_test_scaled, y_test, preprocessor"
   ]
  },
  {
   "cell_type": "code",
   "execution_count": 18,
   "id": "1dcf5af7-63b5-460e-bd05-6f7c80651594",
   "metadata": {},
   "outputs": [
    {
     "name": "stdout",
     "output_type": "stream",
     "text": [
      "(9172483, 61) (9172483,)\n",
      "(3057495, 61) (3057495,)\n"
     ]
    }
   ],
   "source": [
    "X_train, y_train, X_test, y_test,preprocessor = prepare_dataset(df, columns_to_drop, test_size=0.25, random_state=0)\n",
    "\n",
    "print(X_train.shape, y_train.shape)\n",
    "print(X_test.shape, y_test.shape)"
   ]
  },
  {
   "cell_type": "code",
   "execution_count": 19,
   "id": "dddcbc1b-0afa-46a6-91ff-383622d4b285",
   "metadata": {},
   "outputs": [],
   "source": [
    "# Separate the normal transactions from the abnormal transactions.\n",
    "normal_train_data = X_train[y_train]\n",
    "normal_test_data = X_test[y_test]\n",
    "\n",
    "anomalous_train_data = X_train[~y_train]\n",
    "anomalous_test_data = X_test[~y_test]"
   ]
  },
  {
   "cell_type": "code",
   "execution_count": 20,
   "id": "2206186d-104a-486f-b57e-cb85a674c4cf",
   "metadata": {},
   "outputs": [
    {
     "data": {
      "text/html": [
       "<style>#sk-container-id-2 {\n",
       "  /* Definition of color scheme common for light and dark mode */\n",
       "  --sklearn-color-text: black;\n",
       "  --sklearn-color-line: gray;\n",
       "  /* Definition of color scheme for unfitted estimators */\n",
       "  --sklearn-color-unfitted-level-0: #fff5e6;\n",
       "  --sklearn-color-unfitted-level-1: #f6e4d2;\n",
       "  --sklearn-color-unfitted-level-2: #ffe0b3;\n",
       "  --sklearn-color-unfitted-level-3: chocolate;\n",
       "  /* Definition of color scheme for fitted estimators */\n",
       "  --sklearn-color-fitted-level-0: #f0f8ff;\n",
       "  --sklearn-color-fitted-level-1: #d4ebff;\n",
       "  --sklearn-color-fitted-level-2: #b3dbfd;\n",
       "  --sklearn-color-fitted-level-3: cornflowerblue;\n",
       "\n",
       "  /* Specific color for light theme */\n",
       "  --sklearn-color-text-on-default-background: var(--sg-text-color, var(--theme-code-foreground, var(--jp-content-font-color1, black)));\n",
       "  --sklearn-color-background: var(--sg-background-color, var(--theme-background, var(--jp-layout-color0, white)));\n",
       "  --sklearn-color-border-box: var(--sg-text-color, var(--theme-code-foreground, var(--jp-content-font-color1, black)));\n",
       "  --sklearn-color-icon: #696969;\n",
       "\n",
       "  @media (prefers-color-scheme: dark) {\n",
       "    /* Redefinition of color scheme for dark theme */\n",
       "    --sklearn-color-text-on-default-background: var(--sg-text-color, var(--theme-code-foreground, var(--jp-content-font-color1, white)));\n",
       "    --sklearn-color-background: var(--sg-background-color, var(--theme-background, var(--jp-layout-color0, #111)));\n",
       "    --sklearn-color-border-box: var(--sg-text-color, var(--theme-code-foreground, var(--jp-content-font-color1, white)));\n",
       "    --sklearn-color-icon: #878787;\n",
       "  }\n",
       "}\n",
       "\n",
       "#sk-container-id-2 {\n",
       "  color: var(--sklearn-color-text);\n",
       "}\n",
       "\n",
       "#sk-container-id-2 pre {\n",
       "  padding: 0;\n",
       "}\n",
       "\n",
       "#sk-container-id-2 input.sk-hidden--visually {\n",
       "  border: 0;\n",
       "  clip: rect(1px 1px 1px 1px);\n",
       "  clip: rect(1px, 1px, 1px, 1px);\n",
       "  height: 1px;\n",
       "  margin: -1px;\n",
       "  overflow: hidden;\n",
       "  padding: 0;\n",
       "  position: absolute;\n",
       "  width: 1px;\n",
       "}\n",
       "\n",
       "#sk-container-id-2 div.sk-dashed-wrapped {\n",
       "  border: 1px dashed var(--sklearn-color-line);\n",
       "  margin: 0 0.4em 0.5em 0.4em;\n",
       "  box-sizing: border-box;\n",
       "  padding-bottom: 0.4em;\n",
       "  background-color: var(--sklearn-color-background);\n",
       "}\n",
       "\n",
       "#sk-container-id-2 div.sk-container {\n",
       "  /* jupyter's `normalize.less` sets `[hidden] { display: none; }`\n",
       "     but bootstrap.min.css set `[hidden] { display: none !important; }`\n",
       "     so we also need the `!important` here to be able to override the\n",
       "     default hidden behavior on the sphinx rendered scikit-learn.org.\n",
       "     See: https://github.com/scikit-learn/scikit-learn/issues/21755 */\n",
       "  display: inline-block !important;\n",
       "  position: relative;\n",
       "}\n",
       "\n",
       "#sk-container-id-2 div.sk-text-repr-fallback {\n",
       "  display: none;\n",
       "}\n",
       "\n",
       "div.sk-parallel-item,\n",
       "div.sk-serial,\n",
       "div.sk-item {\n",
       "  /* draw centered vertical line to link estimators */\n",
       "  background-image: linear-gradient(var(--sklearn-color-text-on-default-background), var(--sklearn-color-text-on-default-background));\n",
       "  background-size: 2px 100%;\n",
       "  background-repeat: no-repeat;\n",
       "  background-position: center center;\n",
       "}\n",
       "\n",
       "/* Parallel-specific style estimator block */\n",
       "\n",
       "#sk-container-id-2 div.sk-parallel-item::after {\n",
       "  content: \"\";\n",
       "  width: 100%;\n",
       "  border-bottom: 2px solid var(--sklearn-color-text-on-default-background);\n",
       "  flex-grow: 1;\n",
       "}\n",
       "\n",
       "#sk-container-id-2 div.sk-parallel {\n",
       "  display: flex;\n",
       "  align-items: stretch;\n",
       "  justify-content: center;\n",
       "  background-color: var(--sklearn-color-background);\n",
       "  position: relative;\n",
       "}\n",
       "\n",
       "#sk-container-id-2 div.sk-parallel-item {\n",
       "  display: flex;\n",
       "  flex-direction: column;\n",
       "}\n",
       "\n",
       "#sk-container-id-2 div.sk-parallel-item:first-child::after {\n",
       "  align-self: flex-end;\n",
       "  width: 50%;\n",
       "}\n",
       "\n",
       "#sk-container-id-2 div.sk-parallel-item:last-child::after {\n",
       "  align-self: flex-start;\n",
       "  width: 50%;\n",
       "}\n",
       "\n",
       "#sk-container-id-2 div.sk-parallel-item:only-child::after {\n",
       "  width: 0;\n",
       "}\n",
       "\n",
       "/* Serial-specific style estimator block */\n",
       "\n",
       "#sk-container-id-2 div.sk-serial {\n",
       "  display: flex;\n",
       "  flex-direction: column;\n",
       "  align-items: center;\n",
       "  background-color: var(--sklearn-color-background);\n",
       "  padding-right: 1em;\n",
       "  padding-left: 1em;\n",
       "}\n",
       "\n",
       "\n",
       "/* Toggleable style: style used for estimator/Pipeline/ColumnTransformer box that is\n",
       "clickable and can be expanded/collapsed.\n",
       "- Pipeline and ColumnTransformer use this feature and define the default style\n",
       "- Estimators will overwrite some part of the style using the `sk-estimator` class\n",
       "*/\n",
       "\n",
       "/* Pipeline and ColumnTransformer style (default) */\n",
       "\n",
       "#sk-container-id-2 div.sk-toggleable {\n",
       "  /* Default theme specific background. It is overwritten whether we have a\n",
       "  specific estimator or a Pipeline/ColumnTransformer */\n",
       "  background-color: var(--sklearn-color-background);\n",
       "}\n",
       "\n",
       "/* Toggleable label */\n",
       "#sk-container-id-2 label.sk-toggleable__label {\n",
       "  cursor: pointer;\n",
       "  display: block;\n",
       "  width: 100%;\n",
       "  margin-bottom: 0;\n",
       "  padding: 0.5em;\n",
       "  box-sizing: border-box;\n",
       "  text-align: center;\n",
       "}\n",
       "\n",
       "#sk-container-id-2 label.sk-toggleable__label-arrow:before {\n",
       "  /* Arrow on the left of the label */\n",
       "  content: \"▸\";\n",
       "  float: left;\n",
       "  margin-right: 0.25em;\n",
       "  color: var(--sklearn-color-icon);\n",
       "}\n",
       "\n",
       "#sk-container-id-2 label.sk-toggleable__label-arrow:hover:before {\n",
       "  color: var(--sklearn-color-text);\n",
       "}\n",
       "\n",
       "/* Toggleable content - dropdown */\n",
       "\n",
       "#sk-container-id-2 div.sk-toggleable__content {\n",
       "  max-height: 0;\n",
       "  max-width: 0;\n",
       "  overflow: hidden;\n",
       "  text-align: left;\n",
       "  /* unfitted */\n",
       "  background-color: var(--sklearn-color-unfitted-level-0);\n",
       "}\n",
       "\n",
       "#sk-container-id-2 div.sk-toggleable__content.fitted {\n",
       "  /* fitted */\n",
       "  background-color: var(--sklearn-color-fitted-level-0);\n",
       "}\n",
       "\n",
       "#sk-container-id-2 div.sk-toggleable__content pre {\n",
       "  margin: 0.2em;\n",
       "  border-radius: 0.25em;\n",
       "  color: var(--sklearn-color-text);\n",
       "  /* unfitted */\n",
       "  background-color: var(--sklearn-color-unfitted-level-0);\n",
       "}\n",
       "\n",
       "#sk-container-id-2 div.sk-toggleable__content.fitted pre {\n",
       "  /* unfitted */\n",
       "  background-color: var(--sklearn-color-fitted-level-0);\n",
       "}\n",
       "\n",
       "#sk-container-id-2 input.sk-toggleable__control:checked~div.sk-toggleable__content {\n",
       "  /* Expand drop-down */\n",
       "  max-height: 200px;\n",
       "  max-width: 100%;\n",
       "  overflow: auto;\n",
       "}\n",
       "\n",
       "#sk-container-id-2 input.sk-toggleable__control:checked~label.sk-toggleable__label-arrow:before {\n",
       "  content: \"▾\";\n",
       "}\n",
       "\n",
       "/* Pipeline/ColumnTransformer-specific style */\n",
       "\n",
       "#sk-container-id-2 div.sk-label input.sk-toggleable__control:checked~label.sk-toggleable__label {\n",
       "  color: var(--sklearn-color-text);\n",
       "  background-color: var(--sklearn-color-unfitted-level-2);\n",
       "}\n",
       "\n",
       "#sk-container-id-2 div.sk-label.fitted input.sk-toggleable__control:checked~label.sk-toggleable__label {\n",
       "  background-color: var(--sklearn-color-fitted-level-2);\n",
       "}\n",
       "\n",
       "/* Estimator-specific style */\n",
       "\n",
       "/* Colorize estimator box */\n",
       "#sk-container-id-2 div.sk-estimator input.sk-toggleable__control:checked~label.sk-toggleable__label {\n",
       "  /* unfitted */\n",
       "  background-color: var(--sklearn-color-unfitted-level-2);\n",
       "}\n",
       "\n",
       "#sk-container-id-2 div.sk-estimator.fitted input.sk-toggleable__control:checked~label.sk-toggleable__label {\n",
       "  /* fitted */\n",
       "  background-color: var(--sklearn-color-fitted-level-2);\n",
       "}\n",
       "\n",
       "#sk-container-id-2 div.sk-label label.sk-toggleable__label,\n",
       "#sk-container-id-2 div.sk-label label {\n",
       "  /* The background is the default theme color */\n",
       "  color: var(--sklearn-color-text-on-default-background);\n",
       "}\n",
       "\n",
       "/* On hover, darken the color of the background */\n",
       "#sk-container-id-2 div.sk-label:hover label.sk-toggleable__label {\n",
       "  color: var(--sklearn-color-text);\n",
       "  background-color: var(--sklearn-color-unfitted-level-2);\n",
       "}\n",
       "\n",
       "/* Label box, darken color on hover, fitted */\n",
       "#sk-container-id-2 div.sk-label.fitted:hover label.sk-toggleable__label.fitted {\n",
       "  color: var(--sklearn-color-text);\n",
       "  background-color: var(--sklearn-color-fitted-level-2);\n",
       "}\n",
       "\n",
       "/* Estimator label */\n",
       "\n",
       "#sk-container-id-2 div.sk-label label {\n",
       "  font-family: monospace;\n",
       "  font-weight: bold;\n",
       "  display: inline-block;\n",
       "  line-height: 1.2em;\n",
       "}\n",
       "\n",
       "#sk-container-id-2 div.sk-label-container {\n",
       "  text-align: center;\n",
       "}\n",
       "\n",
       "/* Estimator-specific */\n",
       "#sk-container-id-2 div.sk-estimator {\n",
       "  font-family: monospace;\n",
       "  border: 1px dotted var(--sklearn-color-border-box);\n",
       "  border-radius: 0.25em;\n",
       "  box-sizing: border-box;\n",
       "  margin-bottom: 0.5em;\n",
       "  /* unfitted */\n",
       "  background-color: var(--sklearn-color-unfitted-level-0);\n",
       "}\n",
       "\n",
       "#sk-container-id-2 div.sk-estimator.fitted {\n",
       "  /* fitted */\n",
       "  background-color: var(--sklearn-color-fitted-level-0);\n",
       "}\n",
       "\n",
       "/* on hover */\n",
       "#sk-container-id-2 div.sk-estimator:hover {\n",
       "  /* unfitted */\n",
       "  background-color: var(--sklearn-color-unfitted-level-2);\n",
       "}\n",
       "\n",
       "#sk-container-id-2 div.sk-estimator.fitted:hover {\n",
       "  /* fitted */\n",
       "  background-color: var(--sklearn-color-fitted-level-2);\n",
       "}\n",
       "\n",
       "/* Specification for estimator info (e.g. \"i\" and \"?\") */\n",
       "\n",
       "/* Common style for \"i\" and \"?\" */\n",
       "\n",
       ".sk-estimator-doc-link,\n",
       "a:link.sk-estimator-doc-link,\n",
       "a:visited.sk-estimator-doc-link {\n",
       "  float: right;\n",
       "  font-size: smaller;\n",
       "  line-height: 1em;\n",
       "  font-family: monospace;\n",
       "  background-color: var(--sklearn-color-background);\n",
       "  border-radius: 1em;\n",
       "  height: 1em;\n",
       "  width: 1em;\n",
       "  text-decoration: none !important;\n",
       "  margin-left: 1ex;\n",
       "  /* unfitted */\n",
       "  border: var(--sklearn-color-unfitted-level-1) 1pt solid;\n",
       "  color: var(--sklearn-color-unfitted-level-1);\n",
       "}\n",
       "\n",
       ".sk-estimator-doc-link.fitted,\n",
       "a:link.sk-estimator-doc-link.fitted,\n",
       "a:visited.sk-estimator-doc-link.fitted {\n",
       "  /* fitted */\n",
       "  border: var(--sklearn-color-fitted-level-1) 1pt solid;\n",
       "  color: var(--sklearn-color-fitted-level-1);\n",
       "}\n",
       "\n",
       "/* On hover */\n",
       "div.sk-estimator:hover .sk-estimator-doc-link:hover,\n",
       ".sk-estimator-doc-link:hover,\n",
       "div.sk-label-container:hover .sk-estimator-doc-link:hover,\n",
       ".sk-estimator-doc-link:hover {\n",
       "  /* unfitted */\n",
       "  background-color: var(--sklearn-color-unfitted-level-3);\n",
       "  color: var(--sklearn-color-background);\n",
       "  text-decoration: none;\n",
       "}\n",
       "\n",
       "div.sk-estimator.fitted:hover .sk-estimator-doc-link.fitted:hover,\n",
       ".sk-estimator-doc-link.fitted:hover,\n",
       "div.sk-label-container:hover .sk-estimator-doc-link.fitted:hover,\n",
       ".sk-estimator-doc-link.fitted:hover {\n",
       "  /* fitted */\n",
       "  background-color: var(--sklearn-color-fitted-level-3);\n",
       "  color: var(--sklearn-color-background);\n",
       "  text-decoration: none;\n",
       "}\n",
       "\n",
       "/* Span, style for the box shown on hovering the info icon */\n",
       ".sk-estimator-doc-link span {\n",
       "  display: none;\n",
       "  z-index: 9999;\n",
       "  position: relative;\n",
       "  font-weight: normal;\n",
       "  right: .2ex;\n",
       "  padding: .5ex;\n",
       "  margin: .5ex;\n",
       "  width: min-content;\n",
       "  min-width: 20ex;\n",
       "  max-width: 50ex;\n",
       "  color: var(--sklearn-color-text);\n",
       "  box-shadow: 2pt 2pt 4pt #999;\n",
       "  /* unfitted */\n",
       "  background: var(--sklearn-color-unfitted-level-0);\n",
       "  border: .5pt solid var(--sklearn-color-unfitted-level-3);\n",
       "}\n",
       "\n",
       ".sk-estimator-doc-link.fitted span {\n",
       "  /* fitted */\n",
       "  background: var(--sklearn-color-fitted-level-0);\n",
       "  border: var(--sklearn-color-fitted-level-3);\n",
       "}\n",
       "\n",
       ".sk-estimator-doc-link:hover span {\n",
       "  display: block;\n",
       "}\n",
       "\n",
       "/* \"?\"-specific style due to the `<a>` HTML tag */\n",
       "\n",
       "#sk-container-id-2 a.estimator_doc_link {\n",
       "  float: right;\n",
       "  font-size: 1rem;\n",
       "  line-height: 1em;\n",
       "  font-family: monospace;\n",
       "  background-color: var(--sklearn-color-background);\n",
       "  border-radius: 1rem;\n",
       "  height: 1rem;\n",
       "  width: 1rem;\n",
       "  text-decoration: none;\n",
       "  /* unfitted */\n",
       "  color: var(--sklearn-color-unfitted-level-1);\n",
       "  border: var(--sklearn-color-unfitted-level-1) 1pt solid;\n",
       "}\n",
       "\n",
       "#sk-container-id-2 a.estimator_doc_link.fitted {\n",
       "  /* fitted */\n",
       "  border: var(--sklearn-color-fitted-level-1) 1pt solid;\n",
       "  color: var(--sklearn-color-fitted-level-1);\n",
       "}\n",
       "\n",
       "/* On hover */\n",
       "#sk-container-id-2 a.estimator_doc_link:hover {\n",
       "  /* unfitted */\n",
       "  background-color: var(--sklearn-color-unfitted-level-3);\n",
       "  color: var(--sklearn-color-background);\n",
       "  text-decoration: none;\n",
       "}\n",
       "\n",
       "#sk-container-id-2 a.estimator_doc_link.fitted:hover {\n",
       "  /* fitted */\n",
       "  background-color: var(--sklearn-color-fitted-level-3);\n",
       "}\n",
       "</style><div id=\"sk-container-id-2\" class=\"sk-top-container\"><div class=\"sk-text-repr-fallback\"><pre>ColumnTransformer(transformers=[(&#x27;num&#x27;, StandardScaler(),\n",
       "                                 [&#x27;customer_spend_06&#x27;,\n",
       "                                  &#x27;customer_digital_activity_16&#x27;, &#x27;distance_05&#x27;,\n",
       "                                  &#x27;customer_digital_activity_19&#x27;,\n",
       "                                  &#x27;customer_industry_spend_03&#x27;,\n",
       "                                  &#x27;customer_digital_activity_20&#x27;,\n",
       "                                  &#x27;customer_spend_03&#x27;, &#x27;merchant_spend_07&#x27;,\n",
       "                                  &#x27;customer_spend_18&#x27;, &#x27;merchant_spend_03&#x27;,\n",
       "                                  &#x27;distance_02&#x27;, &#x27;customer_profile_04&#x27;,\n",
       "                                  &#x27;customer_digital_act...\n",
       "                                  &#x27;merchant_spend_02&#x27;, &#x27;distance_03&#x27;,\n",
       "                                  &#x27;customer_digital_activity_03&#x27;,\n",
       "                                  &#x27;merchant_spend_11&#x27;, &#x27;customer_spend_02&#x27;,\n",
       "                                  &#x27;merchant_spend_01&#x27;,\n",
       "                                  &#x27;customer_digital_activity_21&#x27;,\n",
       "                                  &#x27;customer_merchant_03&#x27;, &#x27;customer_spend_19&#x27;,\n",
       "                                  &#x27;distance_01&#x27;, &#x27;customer_digital_activity_12&#x27;,\n",
       "                                  &#x27;customer_profile_01&#x27;,\n",
       "                                  &#x27;customer_digital_activity_13&#x27;, ...]),\n",
       "                                (&#x27;cat&#x27;, TargetEncoder(),\n",
       "                                 [&#x27;merchant_profile_01&#x27;])])</pre><b>In a Jupyter environment, please rerun this cell to show the HTML representation or trust the notebook. <br />On GitHub, the HTML representation is unable to render, please try loading this page with nbviewer.org.</b></div><div class=\"sk-container\" hidden><div class=\"sk-item sk-dashed-wrapped\"><div class=\"sk-label-container\"><div class=\"sk-label fitted sk-toggleable\"><input class=\"sk-toggleable__control sk-hidden--visually\" id=\"sk-estimator-id-6\" type=\"checkbox\" ><label for=\"sk-estimator-id-6\" class=\"sk-toggleable__label fitted sk-toggleable__label-arrow fitted\">&nbsp;&nbsp;ColumnTransformer<a class=\"sk-estimator-doc-link fitted\" rel=\"noreferrer\" target=\"_blank\" href=\"https://scikit-learn.org/1.4/modules/generated/sklearn.compose.ColumnTransformer.html\">?<span>Documentation for ColumnTransformer</span></a><span class=\"sk-estimator-doc-link fitted\">i<span>Fitted</span></span></label><div class=\"sk-toggleable__content fitted\"><pre>ColumnTransformer(transformers=[(&#x27;num&#x27;, StandardScaler(),\n",
       "                                 [&#x27;customer_spend_06&#x27;,\n",
       "                                  &#x27;customer_digital_activity_16&#x27;, &#x27;distance_05&#x27;,\n",
       "                                  &#x27;customer_digital_activity_19&#x27;,\n",
       "                                  &#x27;customer_industry_spend_03&#x27;,\n",
       "                                  &#x27;customer_digital_activity_20&#x27;,\n",
       "                                  &#x27;customer_spend_03&#x27;, &#x27;merchant_spend_07&#x27;,\n",
       "                                  &#x27;customer_spend_18&#x27;, &#x27;merchant_spend_03&#x27;,\n",
       "                                  &#x27;distance_02&#x27;, &#x27;customer_profile_04&#x27;,\n",
       "                                  &#x27;customer_digital_act...\n",
       "                                  &#x27;merchant_spend_02&#x27;, &#x27;distance_03&#x27;,\n",
       "                                  &#x27;customer_digital_activity_03&#x27;,\n",
       "                                  &#x27;merchant_spend_11&#x27;, &#x27;customer_spend_02&#x27;,\n",
       "                                  &#x27;merchant_spend_01&#x27;,\n",
       "                                  &#x27;customer_digital_activity_21&#x27;,\n",
       "                                  &#x27;customer_merchant_03&#x27;, &#x27;customer_spend_19&#x27;,\n",
       "                                  &#x27;distance_01&#x27;, &#x27;customer_digital_activity_12&#x27;,\n",
       "                                  &#x27;customer_profile_01&#x27;,\n",
       "                                  &#x27;customer_digital_activity_13&#x27;, ...]),\n",
       "                                (&#x27;cat&#x27;, TargetEncoder(),\n",
       "                                 [&#x27;merchant_profile_01&#x27;])])</pre></div> </div></div><div class=\"sk-parallel\"><div class=\"sk-parallel-item\"><div class=\"sk-item\"><div class=\"sk-label-container\"><div class=\"sk-label fitted sk-toggleable\"><input class=\"sk-toggleable__control sk-hidden--visually\" id=\"sk-estimator-id-7\" type=\"checkbox\" ><label for=\"sk-estimator-id-7\" class=\"sk-toggleable__label fitted sk-toggleable__label-arrow fitted\">num</label><div class=\"sk-toggleable__content fitted\"><pre>[&#x27;customer_spend_06&#x27;, &#x27;customer_digital_activity_16&#x27;, &#x27;distance_05&#x27;, &#x27;customer_digital_activity_19&#x27;, &#x27;customer_industry_spend_03&#x27;, &#x27;customer_digital_activity_20&#x27;, &#x27;customer_spend_03&#x27;, &#x27;merchant_spend_07&#x27;, &#x27;customer_spend_18&#x27;, &#x27;merchant_spend_03&#x27;, &#x27;distance_02&#x27;, &#x27;customer_profile_04&#x27;, &#x27;customer_digital_activity_14&#x27;, &#x27;customer_digital_activity_10&#x27;, &#x27;customer_profile_02&#x27;, &#x27;customer_spend_01&#x27;, &#x27;customer_digital_activity_01&#x27;, &#x27;merchant_spend_02&#x27;, &#x27;distance_03&#x27;, &#x27;customer_digital_activity_03&#x27;, &#x27;merchant_spend_11&#x27;, &#x27;customer_spend_02&#x27;, &#x27;merchant_spend_01&#x27;, &#x27;customer_digital_activity_21&#x27;, &#x27;customer_merchant_03&#x27;, &#x27;customer_spend_19&#x27;, &#x27;distance_01&#x27;, &#x27;customer_digital_activity_12&#x27;, &#x27;customer_profile_01&#x27;, &#x27;customer_digital_activity_13&#x27;, &#x27;customer_spend_05&#x27;, &#x27;customer_spend_16&#x27;, &#x27;customer_spend_13&#x27;, &#x27;merchant_profile_03&#x27;, &#x27;merchant_spend_05&#x27;, &#x27;customer_digital_activity_02&#x27;, &#x27;customer_spend_17&#x27;, &#x27;customer_digital_activity_06&#x27;, &#x27;customer_digital_activity_15&#x27;, &#x27;customer_spend_15&#x27;, &#x27;merchant_spend_10&#x27;, &#x27;distance_04&#x27;, &#x27;merchant_spend_04&#x27;, &#x27;customer_industry_spend_04&#x27;, &#x27;customer_industry_spend_01&#x27;, &#x27;merchant_profile_02&#x27;, &#x27;customer_profile_03&#x27;, &#x27;customer_digital_activity_17&#x27;, &#x27;customer_digital_activity_11&#x27;, &#x27;merchant_spend_09&#x27;, &#x27;merchant_spend_08&#x27;, &#x27;customer_industry_spend_02&#x27;, &#x27;customer_spend_07&#x27;, &#x27;customer_spend_14&#x27;, &#x27;customer_digital_activity_05&#x27;, &#x27;customer_spend_04&#x27;, &#x27;customer_digital_activity_04&#x27;, &#x27;merchant_spend_06&#x27;, &#x27;customer_digital_activity_22&#x27;, &#x27;customer_industry_spend_05&#x27;]</pre></div> </div></div><div class=\"sk-serial\"><div class=\"sk-item\"><div class=\"sk-estimator fitted sk-toggleable\"><input class=\"sk-toggleable__control sk-hidden--visually\" id=\"sk-estimator-id-8\" type=\"checkbox\" ><label for=\"sk-estimator-id-8\" class=\"sk-toggleable__label fitted sk-toggleable__label-arrow fitted\">&nbsp;StandardScaler<a class=\"sk-estimator-doc-link fitted\" rel=\"noreferrer\" target=\"_blank\" href=\"https://scikit-learn.org/1.4/modules/generated/sklearn.preprocessing.StandardScaler.html\">?<span>Documentation for StandardScaler</span></a></label><div class=\"sk-toggleable__content fitted\"><pre>StandardScaler()</pre></div> </div></div></div></div></div><div class=\"sk-parallel-item\"><div class=\"sk-item\"><div class=\"sk-label-container\"><div class=\"sk-label fitted sk-toggleable\"><input class=\"sk-toggleable__control sk-hidden--visually\" id=\"sk-estimator-id-9\" type=\"checkbox\" ><label for=\"sk-estimator-id-9\" class=\"sk-toggleable__label fitted sk-toggleable__label-arrow fitted\">cat</label><div class=\"sk-toggleable__content fitted\"><pre>[&#x27;merchant_profile_01&#x27;]</pre></div> </div></div><div class=\"sk-serial\"><div class=\"sk-item\"><div class=\"sk-estimator fitted sk-toggleable\"><input class=\"sk-toggleable__control sk-hidden--visually\" id=\"sk-estimator-id-10\" type=\"checkbox\" ><label for=\"sk-estimator-id-10\" class=\"sk-toggleable__label fitted sk-toggleable__label-arrow fitted\">&nbsp;TargetEncoder<a class=\"sk-estimator-doc-link fitted\" rel=\"noreferrer\" target=\"_blank\" href=\"https://scikit-learn.org/1.4/modules/generated/sklearn.preprocessing.TargetEncoder.html\">?<span>Documentation for TargetEncoder</span></a></label><div class=\"sk-toggleable__content fitted\"><pre>TargetEncoder()</pre></div> </div></div></div></div></div></div></div></div></div>"
      ],
      "text/plain": [
       "ColumnTransformer(transformers=[('num', StandardScaler(),\n",
       "                                 ['customer_spend_06',\n",
       "                                  'customer_digital_activity_16', 'distance_05',\n",
       "                                  'customer_digital_activity_19',\n",
       "                                  'customer_industry_spend_03',\n",
       "                                  'customer_digital_activity_20',\n",
       "                                  'customer_spend_03', 'merchant_spend_07',\n",
       "                                  'customer_spend_18', 'merchant_spend_03',\n",
       "                                  'distance_02', 'customer_profile_04',\n",
       "                                  'customer_digital_act...\n",
       "                                  'merchant_spend_02', 'distance_03',\n",
       "                                  'customer_digital_activity_03',\n",
       "                                  'merchant_spend_11', 'customer_spend_02',\n",
       "                                  'merchant_spend_01',\n",
       "                                  'customer_digital_activity_21',\n",
       "                                  'customer_merchant_03', 'customer_spend_19',\n",
       "                                  'distance_01', 'customer_digital_activity_12',\n",
       "                                  'customer_profile_01',\n",
       "                                  'customer_digital_activity_13', ...]),\n",
       "                                ('cat', TargetEncoder(),\n",
       "                                 ['merchant_profile_01'])])"
      ]
     },
     "execution_count": 20,
     "metadata": {},
     "output_type": "execute_result"
    }
   ],
   "source": [
    "preprocessor"
   ]
  },
  {
   "cell_type": "code",
   "execution_count": 10,
   "id": "52e3f355-f4fb-4473-b93c-68fcb228ed01",
   "metadata": {},
   "outputs": [
    {
     "data": {
      "text/plain": [
       "['preprocessor_autoencoder.pkl']"
      ]
     },
     "execution_count": 10,
     "metadata": {},
     "output_type": "execute_result"
    }
   ],
   "source": [
    "# Save the StandardScaler\n",
    "#joblib.dump(preprocessor, 'preprocessor_autoencoder.pkl')\n"
   ]
  },
  {
   "cell_type": "code",
   "execution_count": 11,
   "id": "13d1e724-0720-4917-9567-70f1d28bc525",
   "metadata": {},
   "outputs": [],
   "source": [
    "# hyperparameters\n",
    "batch_size = 32\n",
    "num_classes =2\n",
    "no_epochs  = 10\n"
   ]
  },
  {
   "cell_type": "code",
   "execution_count": 21,
   "id": "937b5d73-12a9-43cd-a071-5a3fcdb59567",
   "metadata": {},
   "outputs": [],
   "source": [
    "from tensorflow.keras.callbacks import EarlyStopping, ModelCheckpoint\n",
    "\n",
    "def compile_and_fit(model, name, max_epochs):\n",
    "    '''\n",
    "    Description: Function to compile and fit model\n",
    "    Parameters : Model Architecture, Model name, number of epochs\n",
    "    Return     : model training history records\n",
    "    '''\n",
    "    #model.compile(optimizer='adam', loss='mae')    \n",
    "    early_stopping = EarlyStopping(monitor='val_loss', patience=10, restore_best_weights=True)\n",
    "    # ModelCheckpoint callback\n",
    "    checkpoint_cb = ModelCheckpoint(filepath=name + '.h5', monitor='val_loss', save_best_only=True, save_weights_only=True)\n",
    "\n",
    "    history = model.fit(normal_train_data, normal_train_data, \n",
    "                        epochs=max_epochs, \n",
    "                        batch_size = batch_size,                        \n",
    "                        validation_data=(normal_test_data,normal_test_data),\n",
    "                        shuffle=True, \n",
    "                        callbacks=[early_stopping, checkpoint_cb])\n",
    "    \n",
    "    return history\n"
   ]
  },
  {
   "cell_type": "code",
   "execution_count": null,
   "id": "8cdccb96-6c05-4d89-a62b-9f7b2fbe16e0",
   "metadata": {},
   "outputs": [
    {
     "name": "stderr",
     "output_type": "stream",
     "text": [
      "/home/FYP/poon0064/.conda/envs/RunJupyter/lib/python3.10/site-packages/keras/src/saving/saving_lib.py:396: UserWarning: Skipping variable loading for optimizer 'adam', because it has 2 variables whereas the saved optimizer has 30 variables. \n",
      "  trackable.load_own_variables(weights_store.get(inner_path))\n"
     ]
    },
    {
     "name": "stdout",
     "output_type": "stream",
     "text": [
      "Epoch 1/70\n",
      "\u001b[1m286410/286410\u001b[0m \u001b[32m━━━━━━━━━━━━━━━━━━━━\u001b[0m\u001b[37m\u001b[0m \u001b[1m409s\u001b[0m 1ms/step - loss: 0.4116 - val_loss: 0.4009\n",
      "Epoch 2/70\n",
      "\u001b[1m286410/286410\u001b[0m \u001b[32m━━━━━━━━━━━━━━━━━━━━\u001b[0m\u001b[37m\u001b[0m \u001b[1m393s\u001b[0m 1ms/step - loss: 0.4003 - val_loss: 0.3974\n",
      "Epoch 3/70\n",
      "\u001b[1m286410/286410\u001b[0m \u001b[32m━━━━━━━━━━━━━━━━━━━━\u001b[0m\u001b[37m\u001b[0m \u001b[1m416s\u001b[0m 1ms/step - loss: 0.3971 - val_loss: 0.3970\n",
      "Epoch 4/70\n",
      "\u001b[1m286410/286410\u001b[0m \u001b[32m━━━━━━━━━━━━━━━━━━━━\u001b[0m\u001b[37m\u001b[0m \u001b[1m439s\u001b[0m 1ms/step - loss: 0.3955 - val_loss: 0.3942\n",
      "Epoch 5/70\n",
      "\u001b[1m286410/286410\u001b[0m \u001b[32m━━━━━━━━━━━━━━━━━━━━\u001b[0m\u001b[37m\u001b[0m \u001b[1m402s\u001b[0m 1ms/step - loss: 0.3932 - val_loss: 0.3931\n",
      "Epoch 6/70\n",
      "\u001b[1m286410/286410\u001b[0m \u001b[32m━━━━━━━━━━━━━━━━━━━━\u001b[0m\u001b[37m\u001b[0m \u001b[1m444s\u001b[0m 1ms/step - loss: 0.3925 - val_loss: 0.3925\n",
      "Epoch 7/70\n",
      "\u001b[1m286410/286410\u001b[0m \u001b[32m━━━━━━━━━━━━━━━━━━━━\u001b[0m\u001b[37m\u001b[0m \u001b[1m454s\u001b[0m 1ms/step - loss: 0.3921 - val_loss: 0.3918\n",
      "Epoch 8/70\n",
      "\u001b[1m286410/286410\u001b[0m \u001b[32m━━━━━━━━━━━━━━━━━━━━\u001b[0m\u001b[37m\u001b[0m \u001b[1m419s\u001b[0m 1ms/step - loss: 0.3920 - val_loss: 0.3917\n",
      "Epoch 9/70\n",
      "\u001b[1m286410/286410\u001b[0m \u001b[32m━━━━━━━━━━━━━━━━━━━━\u001b[0m\u001b[37m\u001b[0m \u001b[1m405s\u001b[0m 1ms/step - loss: 0.3917 - val_loss: 0.3918\n",
      "Epoch 10/70\n",
      "\u001b[1m286410/286410\u001b[0m \u001b[32m━━━━━━━━━━━━━━━━━━━━\u001b[0m\u001b[37m\u001b[0m \u001b[1m400s\u001b[0m 1ms/step - loss: 0.3917 - val_loss: 0.3916\n",
      "Epoch 11/70\n",
      "\u001b[1m286410/286410\u001b[0m \u001b[32m━━━━━━━━━━━━━━━━━━━━\u001b[0m\u001b[37m\u001b[0m \u001b[1m464s\u001b[0m 2ms/step - loss: 0.3916 - val_loss: 0.3914\n",
      "Epoch 12/70\n",
      "\u001b[1m286410/286410\u001b[0m \u001b[32m━━━━━━━━━━━━━━━━━━━━\u001b[0m\u001b[37m\u001b[0m \u001b[1m456s\u001b[0m 1ms/step - loss: 0.3917 - val_loss: 0.3914\n",
      "Epoch 13/70\n",
      "\u001b[1m286410/286410\u001b[0m \u001b[32m━━━━━━━━━━━━━━━━━━━━\u001b[0m\u001b[37m\u001b[0m \u001b[1m557s\u001b[0m 2ms/step - loss: 0.3916 - val_loss: 0.3914\n",
      "Epoch 14/70\n",
      "\u001b[1m118211/286410\u001b[0m \u001b[32m━━━━━━━━\u001b[0m\u001b[37m━━━━━━━━━━━━\u001b[0m \u001b[1m4:23\u001b[0m 2ms/step - loss: 0.3914"
     ]
    }
   ],
   "source": [
    "from tensorflow.keras.models import load_model\n",
    "\n",
    "# Assuming you're resuming training\n",
    "model_name = 'autoencoder_model1.weights'  # Use the same name you used for saving\n",
    "max_epochs = 70  # Define how many more epochs you want to train\n",
    "\n",
    "# Load the previously trained model\n",
    "#model = load_model('autoencoder_model.weights.h5')\n",
    "\n",
    "model =AnomalyDetector()\n",
    "model.compile(optimizer='adam', loss='mae')   \n",
    "model.load_weights('autoencoder_model1.weights.h5')\n",
    "# Now, continue training the model from where it left off\n",
    "history = compile_and_fit(model, model_name, max_epochs)"
   ]
  },
  {
   "cell_type": "code",
   "execution_count": 13,
   "id": "e5821f1b-ac8a-4f84-8f23-f2f6b3df379a",
   "metadata": {},
   "outputs": [],
   "source": [
    "class AnomalyDetector(Model):\n",
    "  def __init__(self):\n",
    "    super(AnomalyDetector, self).__init__()\n",
    "    self.encoder = tf.keras.Sequential([  \n",
    "        layers.Dense(32, activation=\"relu\"),\n",
    "        layers.Dense(16, activation=\"relu\"),\n",
    "      layers.Dense(8, activation=\"relu\")])\n",
    "\n",
    "    self.decoder = tf.keras.Sequential([\n",
    "      layers.Dense(8, activation=\"relu\"),\n",
    "        layers.Dense(16, activation=\"relu\"),\n",
    "        layers.Dense(32, activation=\"relu\"),\n",
    "      layers.Dense(61, activation=\"sigmoid\"),\n",
    "    ])\n",
    "\n",
    "  def call(self, x):\n",
    "    encoded = self.encoder(x)\n",
    "    decoded = self.decoder(encoded)\n",
    "    return decoded"
   ]
  },
  {
   "cell_type": "code",
   "execution_count": 13,
   "id": "3509f9f5-b9b4-4991-ad08-aae556f99f1a",
   "metadata": {},
   "outputs": [],
   "source": [
    "def compile_and_fit(model, name, max_epochs):\n",
    "    '''\n",
    "    Description: Function to compile and fit model\n",
    "    Parameters : Model Architecture, Model name, number of epochs\n",
    "    Return     : model traning history records\n",
    "    '''\n",
    "    model.compile(optimizer='adam', loss='mae')    \n",
    "    early_stopping = EarlyStopping(monitor='val_loss', patience=10, restore_best_weights=True)\n",
    "    history = model.fit(normal_train_data, normal_train_data, \n",
    "                        epochs=max_epochs, \n",
    "                        batch_size = batch_size,                        \n",
    "                        validation_data=(normal_test_data,normal_test_data),shuffle=True, callbacks=[early_stopping])\n",
    "    \n",
    "    return history"
   ]
  },
  {
   "cell_type": "code",
   "execution_count": 16,
   "id": "cb6b1103-4da3-46c2-9003-586c95b451ba",
   "metadata": {},
   "outputs": [
    {
     "name": "stderr",
     "output_type": "stream",
     "text": [
      "2024-03-18 14:24:47.222622: W tensorflow/core/common_runtime/gpu/gpu_device.cc:2251] Cannot dlopen some GPU libraries. Please make sure the missing libraries mentioned above are installed properly if you would like to use GPU. Follow the guide at https://www.tensorflow.org/install/gpu for how to download and setup the required libraries for your platform.\n",
      "Skipping registering GPU devices...\n"
     ]
    },
    {
     "name": "stdout",
     "output_type": "stream",
     "text": [
      "Epoch 1/10\n",
      "\u001b[1m286410/286410\u001b[0m \u001b[32m━━━━━━━━━━━━━━━━━━━━\u001b[0m\u001b[37m\u001b[0m \u001b[1m328s\u001b[0m 1ms/step - loss: 0.4167 - val_loss: 0.4073\n",
      "Epoch 2/10\n",
      "\u001b[1m286410/286410\u001b[0m \u001b[32m━━━━━━━━━━━━━━━━━━━━\u001b[0m\u001b[37m\u001b[0m \u001b[1m389s\u001b[0m 1ms/step - loss: 0.4062 - val_loss: 0.4039\n",
      "Epoch 3/10\n",
      "\u001b[1m286410/286410\u001b[0m \u001b[32m━━━━━━━━━━━━━━━━━━━━\u001b[0m\u001b[37m\u001b[0m \u001b[1m353s\u001b[0m 1ms/step - loss: 0.4040 - val_loss: 0.4032\n",
      "Epoch 4/10\n",
      "\u001b[1m286410/286410\u001b[0m \u001b[32m━━━━━━━━━━━━━━━━━━━━\u001b[0m\u001b[37m\u001b[0m \u001b[1m359s\u001b[0m 1ms/step - loss: 0.4033 - val_loss: 0.4030\n",
      "Epoch 5/10\n",
      "\u001b[1m286410/286410\u001b[0m \u001b[32m━━━━━━━━━━━━━━━━━━━━\u001b[0m\u001b[37m\u001b[0m \u001b[1m332s\u001b[0m 1ms/step - loss: 0.4029 - val_loss: 0.4027\n",
      "Epoch 6/10\n",
      "\u001b[1m286410/286410\u001b[0m \u001b[32m━━━━━━━━━━━━━━━━━━━━\u001b[0m\u001b[37m\u001b[0m \u001b[1m386s\u001b[0m 1ms/step - loss: 0.4028 - val_loss: 0.4033\n",
      "Epoch 7/10\n",
      "\u001b[1m286410/286410\u001b[0m \u001b[32m━━━━━━━━━━━━━━━━━━━━\u001b[0m\u001b[37m\u001b[0m \u001b[1m332s\u001b[0m 1ms/step - loss: 0.4028 - val_loss: 0.4026\n",
      "Epoch 8/10\n",
      "\u001b[1m286410/286410\u001b[0m \u001b[32m━━━━━━━━━━━━━━━━━━━━\u001b[0m\u001b[37m\u001b[0m \u001b[1m383s\u001b[0m 1ms/step - loss: 0.4027 - val_loss: 0.4025\n",
      "Epoch 9/10\n",
      "\u001b[1m286410/286410\u001b[0m \u001b[32m━━━━━━━━━━━━━━━━━━━━\u001b[0m\u001b[37m\u001b[0m \u001b[1m351s\u001b[0m 1ms/step - loss: 0.4027 - val_loss: 0.4025\n",
      "Epoch 10/10\n",
      "\u001b[1m286410/286410\u001b[0m \u001b[32m━━━━━━━━━━━━━━━━━━━━\u001b[0m\u001b[37m\u001b[0m \u001b[1m351s\u001b[0m 1ms/step - loss: 0.4027 - val_loss: 0.4032\n"
     ]
    }
   ],
   "source": [
    "\n",
    "# model =AnomalyDetector()\n",
    "# # Start training\n",
    "# history = compile_and_fit(model, 'model',no_epochs)\n",
    "\n"
   ]
  },
  {
   "cell_type": "code",
   "execution_count": 17,
   "id": "036b71fe-efa4-4384-a2d8-cb8e1cb7a0eb",
   "metadata": {},
   "outputs": [],
   "source": [
    "model.save_weights('autoencoder_model.weights.h5')"
   ]
  },
  {
   "cell_type": "code",
   "execution_count": 18,
   "id": "e9e9635d-273a-4d6f-8824-a37c48f810f7",
   "metadata": {},
   "outputs": [
    {
     "data": {
      "text/plain": [
       "<matplotlib.legend.Legend at 0x2aab34d05bd0>"
      ]
     },
     "execution_count": 18,
     "metadata": {},
     "output_type": "execute_result"
    },
    {
     "data": {
      "image/png": "[encoded data removed]",
      "text/plain": [
       "<Figure size 640x480 with 1 Axes>"
      ]
     },
     "metadata": {},
     "output_type": "display_data"
    }
   ],
   "source": [
    "plt.plot(history.history[\"loss\"], label=\"Training Loss\")\n",
    "plt.plot(history.history[\"val_loss\"], label=\"Validation Loss\")\n",
    "plt.legend()"
   ]
  },
  {
   "cell_type": "code",
   "execution_count": 19,
   "id": "617c13f4-4c63-4e8e-9eba-82fd467a0414",
   "metadata": {},
   "outputs": [
    {
     "name": "stdout",
     "output_type": "stream",
     "text": [
      "\u001b[1m286410/286410\u001b[0m \u001b[32m━━━━━━━━━━━━━━━━━━━━\u001b[0m\u001b[37m\u001b[0m \u001b[1m204s\u001b[0m 712us/step\n"
     ]
    }
   ],
   "source": [
    "# Plot the reconstruction error on normal transactions from the training set\n",
    "reconstructions = model.predict(normal_train_data)\n",
    "train_loss = tf.keras.losses.mae(reconstructions, normal_train_data)"
   ]
  },
  {
   "cell_type": "code",
   "execution_count": 20,
   "id": "e51ba202-bc05-470a-8de0-c46ed643ef22",
   "metadata": {},
   "outputs": [
    {
     "data": {
      "image/png": "[encoded data removed]",
      "text/plain": [
       "<Figure size 640x480 with 1 Axes>"
      ]
     },
     "metadata": {},
     "output_type": "display_data"
    }
   ],
   "source": [
    "plt.hist(train_loss[None,:], bins=1000)\n",
    "plt.xlabel(\"Train loss\")\n",
    "plt.ylabel(\"No of examples\")\n",
    "plt.show()"
   ]
  },
  {
   "cell_type": "code",
   "execution_count": 21,
   "id": "b2bc2bcc-8058-42a7-a786-61d2ab3ab887",
   "metadata": {},
   "outputs": [
    {
     "name": "stdout",
     "output_type": "stream",
     "text": [
      "Threshold:  0.5956222497259291\n"
     ]
    }
   ],
   "source": [
    "threshold = np.mean(train_loss) + np.std(train_loss)\n",
    "print(\"Threshold: \", threshold)"
   ]
  },
  {
   "cell_type": "code",
   "execution_count": 22,
   "id": "b198cae6-8462-43d3-b292-ec316b404741",
   "metadata": {},
   "outputs": [
    {
     "data": {
      "text/plain": [
       "9165120"
      ]
     },
     "execution_count": 22,
     "metadata": {},
     "output_type": "execute_result"
    }
   ],
   "source": [
    "len(normal_train_data)"
   ]
  },
  {
   "cell_type": "code",
   "execution_count": 23,
   "id": "7f786095-89b9-4dfe-aaee-e94444ce5b29",
   "metadata": {},
   "outputs": [
    {
     "name": "stdout",
     "output_type": "stream",
     "text": [
      "\u001b[1m78/78\u001b[0m \u001b[32m━━━━━━━━━━━━━━━━━━━━\u001b[0m\u001b[37m\u001b[0m \u001b[1m0s\u001b[0m 2ms/step\n"
     ]
    },
    {
     "data": {
      "image/png": "[encoded data removed]",
      "text/plain": [
       "<Figure size 640x480 with 1 Axes>"
      ]
     },
     "metadata": {},
     "output_type": "display_data"
    }
   ],
   "source": [
    "# Plot the reconstruction error on normal transactions from the testing set\n",
    "reconstructions = model.predict(anomalous_test_data)\n",
    "test_loss = tf.keras.losses.mae(reconstructions, anomalous_test_data)\n",
    "\n",
    "plt.hist(test_loss[None, :], bins=50)\n",
    "plt.xlabel(\"Test loss\")\n",
    "plt.ylabel(\"No of examples\")\n",
    "plt.show()"
   ]
  },
  {
   "cell_type": "code",
   "execution_count": 26,
   "id": "38c3bb7c-6e87-47bf-aa01-e2b024d21ee5",
   "metadata": {},
   "outputs": [
    {
     "ename": "TypeError",
     "evalue": "predict() takes 2 positional arguments but 3 were given",
     "output_type": "error",
     "traceback": [
      "\u001b[0;31m---------------------------------------------------------------------------\u001b[0m",
      "\u001b[0;31mTypeError\u001b[0m                                 Traceback (most recent call last)",
      "Input \u001b[0;32mIn [26]\u001b[0m, in \u001b[0;36m<cell line: 1>\u001b[0;34m()\u001b[0m\n\u001b[0;32m----> 1\u001b[0m preds \u001b[38;5;241m=\u001b[39m \u001b[43mpredict\u001b[49m\u001b[43m(\u001b[49m\u001b[43mmodel\u001b[49m\u001b[43m,\u001b[49m\u001b[43m \u001b[49m\u001b[43mX_test\u001b[49m\u001b[43m,\u001b[49m\u001b[43m \u001b[49m\u001b[43mthreshold\u001b[49m\u001b[43m)\u001b[49m\n\u001b[1;32m      2\u001b[0m print_stats(preds, test_labels)\n",
      "\u001b[0;31mTypeError\u001b[0m: predict() takes 2 positional arguments but 3 were given"
     ]
    }
   ],
   "source": [
    "preds = predict(model, X_test, threshold)\n",
    "print_stats(preds, test_labels)"
   ]
  },
  {
   "cell_type": "code",
   "execution_count": 25,
   "id": "d42ca741-9aa0-4ac0-ac98-f819fd3db121",
   "metadata": {},
   "outputs": [],
   "source": [
    "def predict(model, data):\n",
    "  reconstructions = model(data)\n",
    "  loss = tf.keras.losses.mae(reconstructions, data)\n",
    "  # scaler = preprocessing.MinMaxScaler()\n",
    "  # normalized_errors = scaler.fit_transform(loss.reshape(-1, 1))\n",
    "  # params = beta.fit(normalized_errors)\n",
    "  # probabilities = beta.pdf(normalized_errors, *params)\n",
    "  return loss"
   ]
  },
  {
   "cell_type": "code",
   "execution_count": 28,
   "id": "39fd534e-971b-4d3a-abef-617a8f77a288",
   "metadata": {},
   "outputs": [],
   "source": [
    "eval_df = pd.read_parquet('train_test/imputed_test.parquet')"
   ]
  },
  {
   "cell_type": "code",
   "execution_count": 30,
   "id": "61ac14a9-242e-48d1-88b8-587b3d602b6a",
   "metadata": {
    "scrolled": true
   },
   "outputs": [],
   "source": [
    "# eval_df= eval_df.fillna(0)\n",
    "# TO FILL NA"
   ]
  },
  {
   "cell_type": "code",
   "execution_count": 34,
   "id": "99c22b88-1e18-48dd-94dd-098b71c306ae",
   "metadata": {},
   "outputs": [],
   "source": [
    "# Load the saved StandardScaler\n",
    "preprocessor = joblib.load('scaler_model/model3_preprocessor1.joblib')"
   ]
  },
  {
   "cell_type": "code",
   "execution_count": 35,
   "id": "bb349f6e-e58c-4ede-b739-10b35a8313da",
   "metadata": {},
   "outputs": [],
   "source": [
    "# Scale the remaining features using the same scaler used during training\n",
    "x_new_scaled = preprocessor.transform(eval_df[X_cols])\n",
    "\n"
   ]
  },
  {
   "cell_type": "code",
   "execution_count": 36,
   "id": "ff14fe47-23f8-4d16-96af-3d7eb172694f",
   "metadata": {},
   "outputs": [
    {
     "data": {
      "text/plain": [
       "12604600"
      ]
     },
     "execution_count": 36,
     "metadata": {},
     "output_type": "execute_result"
    }
   ],
   "source": [
    "len(x_new_scaled)"
   ]
  },
  {
   "cell_type": "code",
   "execution_count": 59,
   "id": "73ca2ebe-e4be-4f71-b3f9-530f336d87f4",
   "metadata": {},
   "outputs": [],
   "source": [
    "# Load the saved model\n",
    "model =AnomalyDetector()\n",
    "model.compile(optimizer='adam', loss='mae')   \n",
    "model.load_weights('autoencoder_model.weights.h5')"
   ]
  },
  {
   "cell_type": "code",
   "execution_count": 39,
   "id": "6c9f24a3-78ca-466a-82e5-18abb8463d0f",
   "metadata": {},
   "outputs": [
    {
     "name": "stdout",
     "output_type": "stream",
     "text": [
      "12604600\n"
     ]
    }
   ],
   "source": [
    "\n",
    "# # Determine the number of splits based on the desired size of each array\n",
    "# split_size = 10000  # Adjust this value based on your dataset size and available memory\n",
    "# num_splits = len(x_new_scaled) // split_size + 1\n",
    "\n",
    "# # Split the large array into smaller arrays\n",
    "# small_arrays = np.array_split(x_new_scaled, num_splits)\n",
    "\n",
    "# # Perform inference on each small array and store the results\n",
    "# inference_results = []\n",
    "# for small_array in small_arrays:\n",
    "#     # Perform inference on small_array using your model\n",
    "#     # Replace the following line with your actual inference code\n",
    "#     # Make predictions using the model\n",
    "predictions = predict(model, x_new_scaled)\n",
    "    #inference_results.append(predictions)\n",
    "\n",
    "# Concatenate the inference results into a single array\n",
    "#final_results = np.concatenate(inference_results)\n",
    "\n",
    "# Output or further process the final_results array\n",
    "print(len(predictions))\n"
   ]
  },
  {
   "cell_type": "code",
   "execution_count": 41,
   "id": "794a9713-ab01-442a-86b1-5cc5c7587c92",
   "metadata": {},
   "outputs": [
    {
     "data": {
      "text/plain": [
       "tensorflow.python.framework.ops.EagerTensor"
      ]
     },
     "execution_count": 41,
     "metadata": {},
     "output_type": "execute_result"
    }
   ],
   "source": [
    "type(predictions)"
   ]
  },
  {
   "cell_type": "code",
   "execution_count": 44,
   "id": "e8273c7f-b5a3-4459-aebd-d0ddf7a433c7",
   "metadata": {},
   "outputs": [],
   "source": [
    "predictions = predictions.numpy()"
   ]
  },
  {
   "cell_type": "code",
   "execution_count": 45,
   "id": "9a832caa-736c-46c8-949e-d1955f83711c",
   "metadata": {},
   "outputs": [
    {
     "name": "stderr",
     "output_type": "stream",
     "text": [
      "/home/FYP/poon0064/.conda/envs/RunJupyter/lib/python3.10/site-packages/scipy/stats/_continuous_distns.py:723: RuntimeWarning: The iteration is not making good progress, as measured by the \n",
      "  improvement from the last ten iterations.\n",
      "  a, b = optimize.fsolve(func, (1.0, 1.0))\n"
     ]
    }
   ],
   "source": [
    "from scipy.stats import beta\n",
    "where_are_NaNs = np.isnan(predictions)\n",
    "predictions[where_are_NaNs] = 0\n",
    "scaler = preprocessing.MinMaxScaler()\n",
    "normalized_errors = scaler.fit_transform(predictions.reshape(-1, 1))\n",
    "params = beta.fit(normalized_errors)\n",
    "probabilities = beta.pdf(normalized_errors, *params)"
   ]
  },
  {
   "cell_type": "code",
   "execution_count": 48,
   "id": "3f4da31e-10a9-4ddc-8f38-53fe4f8cc1af",
   "metadata": {},
   "outputs": [],
   "source": [
    "original_test_df = pd.read_csv('evaluation.csv')\n",
    "customer_merchant_info = original_test_df[['customer', 'merchant']]"
   ]
  },
  {
   "cell_type": "code",
   "execution_count": 53,
   "id": "a4227758-5def-47b6-a34b-0e0e4023d553",
   "metadata": {},
   "outputs": [],
   "source": [
    "# Create a new DataFrame with columns A, B, and predictions\n",
    "result_df = pd.concat([original_test_df[['customer','merchant']], pd.DataFrame(probabilities, columns=['predicted_score'])], axis=1)"
   ]
  },
  {
   "cell_type": "code",
   "execution_count": 54,
   "id": "b7698f0f-3278-4de7-804e-8e53db5d1bc4",
   "metadata": {},
   "outputs": [],
   "source": [
    "result_df[['customer', 'merchant', 'predicted_score']].to_csv('submission/final_submission2.csv', index=False)"
   ]
  },
  {
   "cell_type": "code",
   "execution_count": 43,
   "id": "d6b57349-9912-4716-ba6b-ccbeefc44476",
   "metadata": {},
   "outputs": [
    {
     "data": {
      "text/plain": [
       "12604600"
      ]
     },
     "execution_count": 43,
     "metadata": {},
     "output_type": "execute_result"
    }
   ],
   "source": [
    "len(eval_df)"
   ]
  },
  {
   "cell_type": "code",
   "execution_count": 44,
   "id": "5d9db1c9-aeea-44c9-b2e9-7c428bfd63ae",
   "metadata": {},
   "outputs": [
    {
     "data": {
      "text/plain": [
       "array([2.39701993e+018, 1.53164710e-062, 1.22553778e-063, ...,\n",
       "       1.05469043e-079, 1.00804573e-082, 8.70679468e-105])"
      ]
     },
     "execution_count": 44,
     "metadata": {},
     "output_type": "execute_result"
    }
   ],
   "source": [
    "result_df[ 'predicted_score'].unique()"
   ]
  },
  {
   "cell_type": "code",
   "execution_count": null,
   "id": "a99a43ec-81ef-442d-b26d-b66de71a0e59",
   "metadata": {},
   "outputs": [],
   "source": []
  },
  {
   "cell_type": "code",
   "execution_count": null,
   "id": "1c715165-3ccf-46e8-907c-d66340d60201",
   "metadata": {},
   "outputs": [],
   "source": []
  },
  {
   "cell_type": "code",
   "execution_count": 21,
   "id": "5ea614e6-275b-4102-8a42-86055588233f",
   "metadata": {},
   "outputs": [],
   "source": [
    "result_df = result_df.fillna(0)"
   ]
  },
  {
   "cell_type": "code",
   "execution_count": 23,
   "id": "b712a61d-bc0a-418a-b285-45134e16843d",
   "metadata": {},
   "outputs": [
    {
     "data": {
      "text/html": [
       "<div>\n",
       "<style scoped>\n",
       "    .dataframe tbody tr th:only-of-type {\n",
       "        vertical-align: middle;\n",
       "    }\n",
       "\n",
       "    .dataframe tbody tr th {\n",
       "        vertical-align: top;\n",
       "    }\n",
       "\n",
       "    .dataframe thead th {\n",
       "        text-align: right;\n",
       "    }\n",
       "</style>\n",
       "<table border=\"1\" class=\"dataframe\">\n",
       "  <thead>\n",
       "    <tr style=\"text-align: right;\">\n",
       "      <th></th>\n",
       "      <th>customer</th>\n",
       "      <th>merchant</th>\n",
       "      <th>predicted_score</th>\n",
       "    </tr>\n",
       "  </thead>\n",
       "  <tbody>\n",
       "    <tr>\n",
       "      <th>0</th>\n",
       "      <td>467915</td>\n",
       "      <td>599167</td>\n",
       "      <td>0.0</td>\n",
       "    </tr>\n",
       "    <tr>\n",
       "      <th>1</th>\n",
       "      <td>467915</td>\n",
       "      <td>686617</td>\n",
       "      <td>0.0</td>\n",
       "    </tr>\n",
       "    <tr>\n",
       "      <th>2</th>\n",
       "      <td>467915</td>\n",
       "      <td>829193</td>\n",
       "      <td>0.0</td>\n",
       "    </tr>\n",
       "    <tr>\n",
       "      <th>3</th>\n",
       "      <td>467915</td>\n",
       "      <td>1077034</td>\n",
       "      <td>0.0</td>\n",
       "    </tr>\n",
       "    <tr>\n",
       "      <th>4</th>\n",
       "      <td>467915</td>\n",
       "      <td>876647</td>\n",
       "      <td>0.0</td>\n",
       "    </tr>\n",
       "    <tr>\n",
       "      <th>...</th>\n",
       "      <td>...</td>\n",
       "      <td>...</td>\n",
       "      <td>...</td>\n",
       "    </tr>\n",
       "    <tr>\n",
       "      <th>12604595</th>\n",
       "      <td>581658</td>\n",
       "      <td>1685038</td>\n",
       "      <td>0.0</td>\n",
       "    </tr>\n",
       "    <tr>\n",
       "      <th>12604596</th>\n",
       "      <td>559729</td>\n",
       "      <td>1741912</td>\n",
       "      <td>0.0</td>\n",
       "    </tr>\n",
       "    <tr>\n",
       "      <th>12604597</th>\n",
       "      <td>594817</td>\n",
       "      <td>1414695</td>\n",
       "      <td>0.0</td>\n",
       "    </tr>\n",
       "    <tr>\n",
       "      <th>12604598</th>\n",
       "      <td>597078</td>\n",
       "      <td>1414861</td>\n",
       "      <td>0.0</td>\n",
       "    </tr>\n",
       "    <tr>\n",
       "      <th>12604599</th>\n",
       "      <td>597078</td>\n",
       "      <td>2047947</td>\n",
       "      <td>0.0</td>\n",
       "    </tr>\n",
       "  </tbody>\n",
       "</table>\n",
       "<p>12604600 rows × 3 columns</p>\n",
       "</div>"
      ],
      "text/plain": [
       "          customer  merchant  predicted_score\n",
       "0           467915    599167              0.0\n",
       "1           467915    686617              0.0\n",
       "2           467915    829193              0.0\n",
       "3           467915   1077034              0.0\n",
       "4           467915    876647              0.0\n",
       "...            ...       ...              ...\n",
       "12604595    581658   1685038              0.0\n",
       "12604596    559729   1741912              0.0\n",
       "12604597    594817   1414695              0.0\n",
       "12604598    597078   1414861              0.0\n",
       "12604599    597078   2047947              0.0\n",
       "\n",
       "[12604600 rows x 3 columns]"
      ]
     },
     "execution_count": 23,
     "metadata": {},
     "output_type": "execute_result"
    }
   ],
   "source": [
    "result_df"
   ]
  },
  {
   "cell_type": "code",
   "execution_count": null,
   "id": "77a3b302-bf37-4267-9862-b9b60afb78c8",
   "metadata": {},
   "outputs": [],
   "source": []
  }
 ],
 "metadata": {
  "kernelspec": {
   "display_name": "Python 3 (ipykernel)",
   "language": "python",
   "name": "python3"
  },
  "language_info": {
   "codemirror_mode": {
    "name": "ipython",
    "version": 3
   },
   "file_extension": ".py",
   "mimetype": "text/x-python",
   "name": "python",
   "nbconvert_exporter": "python",
   "pygments_lexer": "ipython3",
   "version": "3.10.13"
  }
 },
 "nbformat": 4,
 "nbformat_minor": 5
}
