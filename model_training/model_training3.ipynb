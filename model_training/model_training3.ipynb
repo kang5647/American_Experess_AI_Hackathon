{
 "cells": [
  {
   "cell_type": "code",
   "execution_count": 34,
   "id": "8854a3b8",
   "metadata": {},
   "outputs": [],
   "source": [
    "import tensorflow as tf\n",
    "from tensorflow import keras\n",
    "from tensorflow.keras import layers\n",
    "from sklearn.model_selection import train_test_split\n",
    "import joblib\n",
    "from tensorflow.keras.layers import Normalization, StringLookup, IntegerLookup\n",
    "import pandas as pd\n",
    "import numpy as np\n",
    "from sklearn import preprocessing\n",
    "from sklearn.preprocessing import StandardScaler\n",
    "from sklearn.preprocessing import TargetEncoder\n",
    "from sklearn.compose import ColumnTransformer\n",
    "from tensorflow.keras import Sequential\n",
    "from tensorflow.keras.layers import Dense, Dropout\n",
    "from tensorflow.keras.models import Model\n",
    "import matplotlib.pyplot as plt\n",
    "from tensorflow.keras.callbacks import EarlyStopping"
   ]
  },
  {
   "cell_type": "code",
   "execution_count": 35,
   "id": "2f2a39cb-0943-4844-84d6-a9021c1495e2",
   "metadata": {},
   "outputs": [],
   "source": [
    "columns_to_drop = ['customer','merchant', 'ind_recommended', 'activation', 'label']\n",
    "categorical_features = ['merchant_profile_01'] \n",
    "numeric_features =['customer_spend_06',\n",
    " 'customer_digital_activity_16',\n",
    " 'distance_05',\n",
    " 'customer_digital_activity_19',\n",
    " 'customer_industry_spend_03',\n",
    " 'customer_digital_activity_20',\n",
    " 'customer_spend_03',\n",
    " 'merchant_spend_07',\n",
    " 'customer_spend_18',\n",
    " 'merchant_spend_03',\n",
    " 'distance_02',\n",
    " 'customer_profile_04',\n",
    " 'customer_digital_activity_14',\n",
    " 'customer_digital_activity_10',\n",
    " 'customer_profile_02',\n",
    " 'customer_spend_01',\n",
    " 'customer_digital_activity_01',\n",
    " 'merchant_spend_02',\n",
    " 'distance_03',\n",
    " 'customer_digital_activity_03',\n",
    " 'merchant_spend_11',\n",
    " 'customer_spend_02',\n",
    " 'merchant_spend_01',\n",
    " 'customer_digital_activity_21',\n",
    " 'customer_merchant_03',\n",
    " 'customer_spend_19',\n",
    " 'distance_01',\n",
    " 'customer_digital_activity_12',\n",
    " 'customer_profile_01',\n",
    " 'customer_digital_activity_13',\n",
    " 'customer_spend_05',\n",
    " 'customer_spend_16',\n",
    " 'customer_spend_13',\n",
    " 'merchant_profile_03',\n",
    " 'merchant_spend_05',\n",
    " 'customer_digital_activity_02',\n",
    " 'customer_spend_17',\n",
    " 'customer_digital_activity_06',\n",
    " 'customer_digital_activity_15',\n",
    " 'customer_spend_15',\n",
    " 'merchant_spend_10',\n",
    " 'distance_04',\n",
    " 'merchant_spend_04',\n",
    " 'customer_industry_spend_04',\n",
    " 'customer_industry_spend_01',\n",
    " 'merchant_profile_02',\n",
    " 'customer_profile_03',\n",
    " 'customer_digital_activity_17',\n",
    " 'customer_digital_activity_11',\n",
    " 'merchant_spend_09',\n",
    " 'merchant_spend_08',\n",
    " 'customer_industry_spend_02',\n",
    " 'customer_spend_07',\n",
    " 'customer_spend_14',\n",
    " 'customer_digital_activity_05',\n",
    " 'customer_spend_04',\n",
    " 'customer_digital_activity_04',\n",
    " 'merchant_spend_06',\n",
    " 'customer_digital_activity_22',\n",
    " 'customer_industry_spend_05']\n",
    "X_cols = ['merchant_profile_01',\n",
    " 'customer_spend_06',\n",
    " 'customer_digital_activity_16',\n",
    " 'distance_05',\n",
    " 'customer_digital_activity_19',\n",
    " 'customer_industry_spend_03',\n",
    " 'customer_digital_activity_20',\n",
    " 'customer_spend_03',\n",
    " 'merchant_spend_07',\n",
    " 'customer_spend_18',\n",
    " 'merchant_spend_03',\n",
    " 'distance_02',\n",
    " 'customer_profile_04',\n",
    " 'customer_digital_activity_14',\n",
    " 'customer_digital_activity_10',\n",
    " 'customer_profile_02',\n",
    " 'customer_spend_01',\n",
    " 'customer_digital_activity_01',\n",
    " 'merchant_spend_02',\n",
    " 'distance_03',\n",
    " 'customer_digital_activity_03',\n",
    " 'merchant_spend_11',\n",
    " 'customer_spend_02',\n",
    " 'merchant_spend_01',\n",
    " 'customer_digital_activity_21',\n",
    " 'customer_merchant_03',\n",
    " 'customer_spend_19',\n",
    " 'distance_01',\n",
    " 'customer_digital_activity_12',\n",
    " 'customer_profile_01',\n",
    " 'customer_digital_activity_13',\n",
    " 'customer_spend_05',\n",
    " 'customer_spend_16',\n",
    " 'customer_spend_13',\n",
    " 'merchant_profile_03',\n",
    " 'merchant_spend_05',\n",
    " 'customer_digital_activity_02',\n",
    " 'customer_spend_17',\n",
    " 'customer_digital_activity_06',\n",
    " 'customer_digital_activity_15',\n",
    " 'customer_spend_15',\n",
    " 'merchant_spend_10',\n",
    " 'distance_04',\n",
    " 'merchant_spend_04',\n",
    " 'customer_industry_spend_04',\n",
    " 'customer_industry_spend_01',\n",
    " 'merchant_profile_02',\n",
    " 'customer_profile_03',\n",
    " 'customer_digital_activity_17',\n",
    " 'customer_digital_activity_11',\n",
    " 'merchant_spend_09',\n",
    " 'merchant_spend_08',\n",
    " 'customer_industry_spend_02',\n",
    " 'customer_spend_07',\n",
    " 'customer_spend_14',\n",
    " 'customer_digital_activity_05',\n",
    " 'customer_spend_04',\n",
    " 'customer_digital_activity_04',\n",
    " 'merchant_spend_06',\n",
    " 'customer_digital_activity_22',\n",
    " 'customer_industry_spend_05']"
   ]
  },
  {
   "cell_type": "code",
   "execution_count": 36,
   "id": "d42ca741-9aa0-4ac0-ac98-f819fd3db121",
   "metadata": {},
   "outputs": [],
   "source": [
    "def predict(model, data):\n",
    "  reconstructions = model(data)\n",
    "  loss = tf.keras.losses.mae(reconstructions, data)\n",
    "  # scaler = preprocessing.MinMaxScaler()\n",
    "  # normalized_errors = scaler.fit_transform(loss.reshape(-1, 1))\n",
    "  # params = beta.fit(normalized_errors)\n",
    "  # probabilities = beta.pdf(normalized_errors, *params)\n",
    "  return loss"
   ]
  },
  {
   "cell_type": "code",
   "execution_count": 37,
   "id": "4ee497e1-9689-4d63-9665-d7ac5fc4c60f",
   "metadata": {},
   "outputs": [],
   "source": [
    "class AnomalyDetector(Model):\n",
    "  def __init__(self):\n",
    "    super(AnomalyDetector, self).__init__()\n",
    "    self.encoder = tf.keras.Sequential([  \n",
    "        layers.Dense(32, activation=\"relu\"),\n",
    "        layers.Dense(16, activation=\"relu\"),\n",
    "      layers.Dense(8, activation=\"relu\")])\n",
    "\n",
    "    self.decoder = tf.keras.Sequential([\n",
    "      layers.Dense(8, activation=\"relu\"),\n",
    "        layers.Dense(16, activation=\"relu\"),\n",
    "        layers.Dense(32, activation=\"relu\"),\n",
    "      layers.Dense(61, activation=\"sigmoid\"),\n",
    "    ])\n",
    "\n",
    "  def call(self, x):\n",
    "    encoded = self.encoder(x)\n",
    "    decoded = self.decoder(encoded)\n",
    "    return decoded"
   ]
  },
  {
   "cell_type": "code",
   "execution_count": 12,
   "id": "39fd534e-971b-4d3a-abef-617a8f77a288",
   "metadata": {},
   "outputs": [],
   "source": [
    "eval_df = pd.read_parquet('train_test/imputed_test.parquet')"
   ]
  },
  {
   "cell_type": "code",
   "execution_count": 13,
   "id": "61ac14a9-242e-48d1-88b8-587b3d602b6a",
   "metadata": {
    "scrolled": true
   },
   "outputs": [],
   "source": [
    "# eval_df= eval_df.fillna(0)\n",
    "# TO FILL NA"
   ]
  },
  {
   "cell_type": "code",
   "execution_count": 38,
   "id": "99c22b88-1e18-48dd-94dd-098b71c306ae",
   "metadata": {},
   "outputs": [],
   "source": [
    "# Load the saved StandardScaler\n",
    "preprocessor = joblib.load('scaler_model/model3_preprocessor1.joblib')"
   ]
  },
  {
   "cell_type": "code",
   "execution_count": 39,
   "id": "bb349f6e-e58c-4ede-b739-10b35a8313da",
   "metadata": {},
   "outputs": [],
   "source": [
    "# Scale the remaining features using the same scaler used during training\n",
    "x_new_scaled = preprocessor.transform(eval_df[X_cols])\n",
    "\n"
   ]
  },
  {
   "cell_type": "code",
   "execution_count": 40,
   "id": "ff14fe47-23f8-4d16-96af-3d7eb172694f",
   "metadata": {},
   "outputs": [
    {
     "data": {
      "text/plain": [
       "12604600"
      ]
     },
     "execution_count": 40,
     "metadata": {},
     "output_type": "execute_result"
    }
   ],
   "source": [
    "len(x_new_scaled)"
   ]
  },
  {
   "cell_type": "code",
   "execution_count": 41,
   "id": "73ca2ebe-e4be-4f71-b3f9-530f336d87f4",
   "metadata": {},
   "outputs": [
    {
     "name": "stderr",
     "output_type": "stream",
     "text": [
      "/home/FYP/poon0064/.conda/envs/RunJupyter/lib/python3.10/site-packages/keras/src/saving/saving_lib.py:396: UserWarning: Skipping variable loading for optimizer 'adam', because it has 2 variables whereas the saved optimizer has 30 variables. \n",
      "  trackable.load_own_variables(weights_store.get(inner_path))\n"
     ]
    }
   ],
   "source": [
    "# Load the saved model\n",
    "model =AnomalyDetector()\n",
    "model.compile(optimizer='adam', loss='mae')   \n",
    "model.load_weights('autoencoder_model1.weights.h5')"
   ]
  },
  {
   "cell_type": "code",
   "execution_count": 50,
   "id": "6c9f24a3-78ca-466a-82e5-18abb8463d0f",
   "metadata": {},
   "outputs": [
    {
     "name": "stdout",
     "output_type": "stream",
     "text": [
      "12604600\n"
     ]
    }
   ],
   "source": [
    "\n",
    "predictions = predict(model, x_new_scaled)\n",
    "print(len(predictions))\n"
   ]
  },
  {
   "cell_type": "code",
   "execution_count": 55,
   "id": "e8273c7f-b5a3-4459-aebd-d0ddf7a433c7",
   "metadata": {},
   "outputs": [
    {
     "ename": "AttributeError",
     "evalue": "'numpy.ndarray' object has no attribute 'numpy'",
     "output_type": "error",
     "traceback": [
      "\u001b[0;31m---------------------------------------------------------------------------\u001b[0m",
      "\u001b[0;31mAttributeError\u001b[0m                            Traceback (most recent call last)",
      "Input \u001b[0;32mIn [55]\u001b[0m, in \u001b[0;36m<cell line: 1>\u001b[0;34m()\u001b[0m\n\u001b[0;32m----> 1\u001b[0m predictions \u001b[38;5;241m=\u001b[39m \u001b[43mpredictions\u001b[49m\u001b[38;5;241;43m.\u001b[39;49m\u001b[43mnumpy\u001b[49m()\n",
      "\u001b[0;31mAttributeError\u001b[0m: 'numpy.ndarray' object has no attribute 'numpy'"
     ]
    }
   ],
   "source": [
    "predictions = predictions.numpy()"
   ]
  },
  {
   "cell_type": "code",
   "execution_count": 44,
   "id": "0d056fb5-111c-4f2b-ae8a-a339b1eb9ea3",
   "metadata": {},
   "outputs": [
    {
     "name": "stdout",
     "output_type": "stream",
     "text": [
      "Contains NaN values: False\n",
      "Number of NaN values: 0\n"
     ]
    }
   ],
   "source": [
    "na_mask = np.isnan(predictions)\n",
    "\n",
    "# Check if there are any NaN values and print the result\n",
    "has_na = np.any(na_mask)\n",
    "print(\"Contains NaN values:\", has_na)\n",
    "\n",
    "# If needed, count the number of NaN values\n",
    "na_count = np.sum(na_mask)\n",
    "print(\"Number of NaN values:\", na_count)"
   ]
  },
  {
   "cell_type": "code",
   "execution_count": 52,
   "id": "9a832caa-736c-46c8-949e-d1955f83711c",
   "metadata": {},
   "outputs": [
    {
     "name": "stderr",
     "output_type": "stream",
     "text": [
      "/home/FYP/poon0064/.conda/envs/RunJupyter/lib/python3.10/site-packages/scipy/stats/_continuous_distns.py:723: RuntimeWarning: The iteration is not making good progress, as measured by the \n",
      "  improvement from the last ten iterations.\n",
      "  a, b = optimize.fsolve(func, (1.0, 1.0))\n"
     ]
    }
   ],
   "source": [
    "from scipy.stats import beta\n",
    "where_are_NaNs = np.isnan(predictions)\n",
    "predictions[where_are_NaNs] = 0\n",
    "scaler = preprocessing.MinMaxScaler()\n",
    "normalized_errors = scaler.fit_transform(predictions.reshape(-1, 1))\n",
    "params = beta.fit(normalized_errors)\n",
    "probabilities = beta.pdf(normalized_errors, *params)"
   ]
  },
  {
   "cell_type": "code",
   "execution_count": 56,
   "id": "c56fbc3d-ab40-4fbc-8cfa-85142e7f696a",
   "metadata": {},
   "outputs": [],
   "source": [
    "from sklearn.preprocessing import MinMaxScaler\n",
    "scaler = MinMaxScaler()\n",
    "normalized_errors = scaler.fit_transform(predictions.reshape(-1, 1))\n",
    "predictions = np.abs(normalized_errors)"
   ]
  },
  {
   "cell_type": "code",
   "execution_count": 24,
   "id": "574b79bf-12a7-430b-97ae-cdb4e83d6d2b",
   "metadata": {},
   "outputs": [],
   "source": [
    "np.savetxt(\"predictions.csv\", predictions, delimiter=\",\")"
   ]
  },
  {
   "cell_type": "code",
   "execution_count": 25,
   "id": "3f4da31e-10a9-4ddc-8f38-53fe4f8cc1af",
   "metadata": {},
   "outputs": [],
   "source": [
    "original_test_df = pd.read_csv('evaluation.csv')\n",
    "customer_merchant_info = original_test_df[['customer', 'merchant']]"
   ]
  },
  {
   "cell_type": "code",
   "execution_count": 58,
   "id": "a4227758-5def-47b6-a34b-0e0e4023d553",
   "metadata": {},
   "outputs": [],
   "source": [
    "# Create a new DataFrame with columns A, B, and predictions\n",
    "result_df = pd.concat([original_test_df[['customer','merchant']], pd.DataFrame(predictions, columns=['predicted_score'])], axis=1)"
   ]
  },
  {
   "cell_type": "code",
   "execution_count": 59,
   "id": "b7698f0f-3278-4de7-804e-8e53db5d1bc4",
   "metadata": {},
   "outputs": [],
   "source": [
    "result_df[['customer', 'merchant', 'predicted_score']].to_csv('submission/final_submission3.csv', index=False)"
   ]
  },
  {
   "cell_type": "code",
   "execution_count": null,
   "id": "d6b57349-9912-4716-ba6b-ccbeefc44476",
   "metadata": {},
   "outputs": [],
   "source": [
    "len(eval_df)"
   ]
  },
  {
   "cell_type": "code",
   "execution_count": null,
   "id": "5902aff1-2091-43fe-b2db-48380f036a1c",
   "metadata": {},
   "outputs": [],
   "source": []
  },
  {
   "cell_type": "code",
   "execution_count": null,
   "id": "80efd1ec-8d29-4d18-8b91-7a6df679b1ce",
   "metadata": {},
   "outputs": [],
   "source": []
  }
 ],
 "metadata": {
  "kernelspec": {
   "display_name": "Python 3 (ipykernel)",
   "language": "python",
   "name": "python3"
  },
  "language_info": {
   "codemirror_mode": {
    "name": "ipython",
    "version": 3
   },
   "file_extension": ".py",
   "mimetype": "text/x-python",
   "name": "python",
   "nbconvert_exporter": "python",
   "pygments_lexer": "ipython3",
   "version": "3.10.13"
  }
 },
 "nbformat": 4,
 "nbformat_minor": 5
}
